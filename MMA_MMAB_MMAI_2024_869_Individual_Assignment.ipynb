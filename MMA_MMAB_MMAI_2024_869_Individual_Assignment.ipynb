{
  "nbformat": 4,
  "nbformat_minor": 0,
  "metadata": {
    "kernelspec": {
      "name": "python3",
      "display_name": "Python 3"
    },
    "colab": {
      "provenance": [],
      "include_colab_link": true
    }
  },
  "cells": [
    {
      "cell_type": "code",
      "metadata": {
        "id": "view-in-github"
      },
      "source": [
        "import datetime\n",
        "import pandas as pd\n",
        "import numpy as np\n",
        "from sklearn.model_selection import train_test_split\n",
        "from sklearn.ensemble import RandomForestClassifier\n",
        "from sklearn.model_selection import cross_val_score\n"
      ],
      "execution_count": 13,
      "outputs": []
    },
    {
      "cell_type": "code",
      "metadata": {
        "id": "mqQ_XOKyXTS6",
        "colab": {
          "base_uri": "https://localhost:8080/"
        },
        "outputId": "8b5f7dc0-4d53-48d6-abab-0f655145c1c4"
      },
      "source": [
        "print(datetime.datetime.now())"
      ],
      "execution_count": 2,
      "outputs": [
        {
          "output_type": "stream",
          "name": "stdout",
          "text": [
            "2023-08-02 16:28:09.816258\n"
          ]
        }
      ]
    },
    {
      "cell_type": "code",
      "metadata": {
        "colab": {
          "base_uri": "https://localhost:8080/"
        },
        "id": "LfOMt1lErLhZ",
        "outputId": "0463ff52-4643-4765-a3c2-4ef178b49d45"
      },
      "source": [
        "!which python"
      ],
      "execution_count": 3,
      "outputs": [
        {
          "output_type": "stream",
          "name": "stdout",
          "text": [
            "/usr/local/bin/python\n"
          ]
        }
      ]
    },
    {
      "cell_type": "code",
      "metadata": {
        "colab": {
          "base_uri": "https://localhost:8080/"
        },
        "id": "aub2w1-arM5K",
        "outputId": "abb48998-81a4-441d-b2b3-709f9cd2d4e1"
      },
      "source": [
        "!python --version"
      ],
      "execution_count": 4,
      "outputs": [
        {
          "output_type": "stream",
          "name": "stdout",
          "text": [
            "Python 3.10.12\n"
          ]
        }
      ]
    },
    {
      "cell_type": "code",
      "metadata": {
        "colab": {
          "base_uri": "https://localhost:8080/"
        },
        "id": "E9Y_n_8UrO9i",
        "outputId": "d2faa68c-5888-4391-a018-966bb1109d2c"
      },
      "source": [
        "!echo $PYTHONPATH"
      ],
      "execution_count": 5,
      "outputs": [
        {
          "output_type": "stream",
          "name": "stdout",
          "text": [
            "/env/python\n"
          ]
        }
      ]
    },
    {
      "cell_type": "code",
      "metadata": {
        "id": "-qyD7Jl0Gw1E"
      },
      "source": [
        "# TODO: install any packages you need to here. For example:\n",
        "#pip install unidecode"
      ],
      "execution_count": null,
      "outputs": []
    },
    {
      "cell_type": "markdown",
      "metadata": {
        "id": "RLlBjIyS2o54"
      },
      "source": [
        "# Question 1: Uncle Steve's Diamonds"
      ]
    },
    {
      "cell_type": "markdown",
      "metadata": {
        "id": "qj1NSQelo_oN"
      },
      "source": [
        "## (Add your content here)"
      ]
    }
  ]
}
      "source": [
        "print(datetime.datetime.now())"
      ],
      "execution_count": 2,
      "outputs": [
        {
          "output_type": "stream",
          "name": "stdout",
          "text": [
            "2023-08-02 16:28:09.816258\n"
          ]
        }
      ]
    },
    {
      "cell_type": "code",
      "metadata": {
        "colab": {
          "base_uri": "https://localhost:8080/"
        },
        "id": "LfOMt1lErLhZ",
        "outputId": "0463ff52-4643-4765-a3c2-4ef178b49d45"
      },
      "source": [
        "!which python"
      ],
      "execution_count": 3,
      "outputs": [
        {
          "output_type": "stream",
          "name": "stdout",
          "text": [
            "/usr/local/bin/python\n"
          ]
        }
      ]
    },
    {
      "cell_type": "code",
      "metadata": {
        "colab": {
          "base_uri": "https://localhost:8080/"
        },
        "id": "aub2w1-arM5K",
        "outputId": "abb48998-81a4-441d-b2b3-709f9cd2d4e1"
      },
      "source": [
        "!python --version"
      ],
      "execution_count": 4,
      "outputs": [
        {
          "output_type": "stream",
          "name": "stdout",
          "text": [
            "Python 3.10.12\n"
          ]
        }
      ]
    },
    {
      "cell_type": "code",
      "metadata": {
        "colab": {
          "base_uri": "https://localhost:8080/"
        },
        "id": "E9Y_n_8UrO9i",
        "outputId": "d2faa68c-5888-4391-a018-966bb1109d2c"
      },
      "source": [
        "!echo $PYTHONPATH"
      ],
      "execution_count": 5,
      "outputs": [
        {
          "output_type": "stream",
          "name": "stdout",
          "text": [
            "/env/python\n"
          ]
        }
      ]
    },
    {
      "cell_type": "code",
      "metadata": {
        "id": "-qyD7Jl0Gw1E"
      },
      "source": [
        "# TODO: install any packages you need to here. For example:\n",
        "#pip install unidecode"
      ],
      "execution_count": null,
      "outputs": []
    },
    {
      "cell_type": "markdown",
      "metadata": {
        "id": "RLlBjIyS2o54"
      },
      "source": [
        "# Question 1: Uncle Steve's Diamonds"
      ]
    },
    {
      "cell_type": "markdown",
      "metadata": {
        "id": "qj1NSQelo_oN"
      },
      "source": [
        "## Instructions\n",
        "\n",
        "You work at a local jewelry store named *Uncle Steve's Diamonds*. You started as a janitor, but you’ve recently been promoted to senior data analyst. Congratulations!\n",
        "\n",
        "Uncle Steve, the store's owner, needs to better understand the store's customers. In particular, he wants to know what kind of customers shop at the store. He wants to know the main types of *customer personas*. Once he knows these, he will contemplate ways to better market to each persona, better satisfy each persona, better cater to each persona, increase the loyalty of each persona, etc. But first, he must know the personas.\n",
        "\n",
        "You want to help Uncle Steve. Using sneaky magic (and the help of Environics), you've collected four useful features for a subset of the customers: age, income, spending score (i.e., a score based on how much they’ve spent at the store in total), and savings (i.e., how much money they have in their bank account).\n",
        "\n",
        "**Your tasks**\n",
        "\n",
        "1. Pick a clustering algorithm (the [`sklearn.cluster`](https://scikit-learn.org/stable/modules/classes.html#module-sklearn.cluster) module has many good choices, including [`KMeans`](https://scikit-learn.org/stable/modules/generated/sklearn.cluster.KMeans.html#sklearn.cluster.KMeans), [`DBSCAN`](https://scikit-learn.org/stable/modules/generated/sklearn.cluster.DBSCAN.html#sklearn.cluster.DBSCAN), and [`AgglomerativeClustering`](https://scikit-learn.org/stable/modules/generated/sklearn.cluster.AgglomerativeClustering.html#sklearn.cluster.AgglomerativeClustering) (aka Hierarchical)). (Note that another popular implementation of the hierarchical algorithm can be found in SciPy's [`scipy.cluster.hierarchy.linkage`](https://docs.scipy.org/doc/scipy/reference/generated/scipy.cluster.hierarchy.linkage.html).) Don't spend a lot of time thinking about which algorithm to choose - just pick one. Cluster the customers as best as you can, within reason. That is, try different feature preprocessing steps, hyperparameter values, and/or distance metrics. You don't need to try every posssible combination, but try a few at least. Measure how good each  model configuration is by calculating an internal validation metric (e.g., [`calinski_harabasz_score`](https://scikit-learn.org/stable/modules/generated/sklearn.metrics.calinski_harabasz_score.html) or [`silhouette_score`](https://scikit-learn.org/stable/modules/generated/sklearn.metrics.silhouette_score.html#sklearn.metrics.silhouette_score)).\n",
        "2. You have some doubts - you're not sure if the algorithm you chose in part 1 is the best algorithm for this dataset/problem. Neither is Uncle Steve. So, choose a different algorithm (any!) and do it all again.\n",
        "3. Which clustering algorithm is \"better\" in this case? Think about charateristics of the algorithm like quality of results, ease of use, speed, interpretability, etc. Choose a \"winner\" and justify to Uncle Steve.\n",
        "4. Interpret the clusters of the winning model. That is, describe, in words, a *persona* that accurately depicts each cluster. Use statistics (e.g., cluster means/distributions), examples (e.g., exemplar instances from each cluster), and/or visualizations (e.g., relative importance plots, snakeplots) to get started. Human judgement and creativity will be necessary. This is where it all comes together. Be descriptive and *help Uncle Steve understand his customers better*. Please!\n",
        "\n",
        "**Marking**\n",
        "\n",
        "The coding parts (i.e., 1 and 2) will be marked based on:\n",
        "\n",
        "- *Correctness*. Code clearly and fully performs the task specified.\n",
        "- *Reproducibility*. Code is fully reproducible. I.e., you (and I) are able to run this Notebook again and again, from top to bottom, and get the same results each time.\n",
        "- *Style*. Code is organized. All parts commented with clear reasoning and rationale. No old code laying around. Code easy to follow.\n",
        "\n",
        "\n",
        "Parts 3 and 4 will be marked on:\n",
        "\n",
        "- *Quality*. Response is well-justified and convincing. Responses uses facts and data where possible.\n",
        "- *Style*. Response uses proper grammar, spelling, and punctuation. Response is clear and professional. Response is complete, but not overly-verbose. Response follows length guidelines.\n",
        "\n",
        "\n",
        "**Tips**\n",
        "\n",
        "- Since clustering is an unsupervised ML technique, you don't need to split the data into training/validation/test or anything like that. Phew!\n",
        "- On the flip side, since clustering is unsupervised, you will never know the \"true\" clusters, and so you will never know if a given algorithm is \"correct.\" There really is no notion of \"correctness\" - only \"usefullness.\"\n",
        "- Many online clustering tutorials (including some from Uncle Steve) create flashy visualizations of the clusters by plotting the instances on a 2-D graph and coloring each point by the cluster ID. This is really nice and all, but it can only work if your dataset only has exactly two features - no more, no less. This dataset has more than two features, so you cannot use this technique. (But that's OK - you don't need to use this technique.)\n",
        "- Must you use all four features in the clustering? Not necessarily, no. But \"throwing away\" quality data, for no reason, is unlikely to improve a model.\n",
        "- Some people have success applying a dimensionality reduction technique (like [`sklearn.decomposition.PCA`](https://scikit-learn.org/stable/modules/generated/sklearn.decomposition.PCA.html)) to the features before clustering. You may do this if you wish, although it may not be as helpful in this case because there are only four features to begin with.\n",
        "- If you apply a transformation (e.g., [`MinMaxScaler`](https://scikit-learn.org/stable/modules/generated/sklearn.preprocessing.MinMaxScaler.html) or [`StandardScaler`](https://scikit-learn.org/stable/modules/generated/sklearn.preprocessing.StandardScaler.html#sklearn.preprocessing.StandardScaler)) to the features before clustering, you may have difficulty interpretting the means of the clusters (e.g., what is a mean Age of 0.2234??). There are two options to fix this: first, you can always reverse a transformation with the `inverse_transform` method. Second, you can just use the original dataset (i.e., before any preprocessing) during the interpreation step.\n",
        "- You cannot change the distance metric for K-Means. (This is for theoretical reasons: K-Means only works/makes sense with Euclidean distance.)\n"
      ]
    },
    {
      "cell_type": "markdown",
      "metadata": {
        "id": "Yww0-vtpOw7z"
      },
      "source": [
        "## 1.0: Load data"
      ]
    },
    {
      "cell_type": "code",
      "metadata": {
        "colab": {
          "base_uri": "https://localhost:8080/"
        },
        "id": "qVWx2c-DhQYo",
        "outputId": "3e09e20a-eab9-4ead-cedb-0f8be230fb44"
      },
      "source": [
        "# DO NOT MODIFY THIS CELL\n",
        "df1 = pd.read_csv(\"https://drive.google.com/uc?export=download&id=1thHDCwQK3GijytoSSZNekAsItN_FGHtm\")\n",
        "df1.info()"
      ],
      "execution_count": 6,
      "outputs": [
        {
          "output_type": "stream",
          "name": "stdout",
          "text": [
            "<class 'pandas.core.frame.DataFrame'>\n",
            "RangeIndex: 505 entries, 0 to 504\n",
            "Data columns (total 4 columns):\n",
            " #   Column         Non-Null Count  Dtype  \n",
            "---  ------         --------------  -----  \n",
            " 0   Age            505 non-null    int64  \n",
            " 1   Income         505 non-null    int64  \n",
            " 2   SpendingScore  505 non-null    float64\n",
            " 3   Savings        505 non-null    float64\n",
            "dtypes: float64(2), int64(2)\n",
            "memory usage: 15.9 KB\n"
          ]
        }
      ]
    },
    {
      "cell_type": "markdown",
      "metadata": {
        "id": "R04NzckZKbG2"
      },
      "source": [
        "## 1.1: Clustering Algorithm #1"
      ]
    },
    {
      "cell_type": "code",
      "metadata": {
        "id": "Qeavkicwo_oN",
        "outputId": "ad857028-cb06-4f1a-e604-13245f0f3578",
        "colab": {
          "base_uri": "https://localhost:8080/",
          "height": 891
        }
      },
      "source": [
        "import pandas as pd\n",
        "import matplotlib.pyplot as plt\n",
        "from sklearn.cluster import KMeans\n",
        "from sklearn.decomposition import PCA\n",
        "from sklearn.preprocessing import StandardScaler\n",
        "\n",
        "\n",
        "# Extract features\n",
        "X = df1[['Age', 'Income', 'SpendingScore', 'Savings']]\n",
        "\n",
        "# Standardize the features\n",
        "scaler = StandardScaler()\n",
        "X_scaled = scaler.fit_transform(X)\n",
        "\n",
        "# Apply dimensionality reduction (PCA) for visualization (optional)\n",
        "pca = PCA(n_components=2)\n",
        "X_pca = pca.fit_transform(X_scaled)\n",
        "\n",
        "# Initialize KMeans with a fixed number of clusters (K)\n",
        "kmeans = KMeans(n_clusters=3, random_state=42)\n",
        "kmeans.fit(X_scaled)\n",
        "\n",
        "# Get the cluster assignments\n",
        "cluster_labels = kmeans.labels_\n",
        "\n",
        "# Plot the clusters (assuming PCA for visualization)\n",
        "plt.scatter(X_pca[:, 0], X_pca[:, 1], c=cluster_labels, cmap='viridis')\n",
        "plt.xlabel('PCA Component 1')\n",
        "plt.ylabel('PCA Component 2')\n",
        "plt.title('Clustering of Customer Personas')\n",
        "plt.show()\n",
        "\n",
        "# Inverse transform cluster centers to get original scale\n",
        "cluster_centers = scaler.inverse_transform(kmeans.cluster_centers_)\n",
        "cluster_means = pd.DataFrame(cluster_centers, columns=X.columns)\n",
        "\n",
        "# Describe each cluster persona based on original data\n",
        "for cluster_id in range(3):\n",
        "    print(f\"Cluster {cluster_id + 1} Persona:\")\n",
        "    print(cluster_means.loc[cluster_id])\n",
        "    print(\"-----\")\n",
        "\n"
      ],
      "execution_count": 12,
      "outputs": [
        {
          "output_type": "stream",
          "name": "stderr",
          "text": [
            "/usr/local/lib/python3.10/dist-packages/sklearn/cluster/_kmeans.py:870: FutureWarning: The default value of `n_init` will change from 10 to 'auto' in 1.4. Set the value of `n_init` explicitly to suppress the warning\n",
            "  warnings.warn(\n"
          ]
        },
        {
          "output_type": "display_data",
          "data": {
            "text/plain": [
              "<Figure size 640x480 with 1 Axes>"
            ],
            "image/png": "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\n"
          },
          "metadata": {}
        },
        {
          "output_type": "stream",
          "name": "stdout",
          "text": [
            "Cluster 1 Persona:\n",
            "Age                  41.589404\n",
            "Income           107695.980132\n",
            "SpendingScore         0.269935\n",
            "Savings           14937.265769\n",
            "Name: 0, dtype: float64\n",
            "-----\n",
            "Cluster 2 Persona:\n",
            "Age                 51.314010\n",
            "Income           85873.439614\n",
            "SpendingScore        0.801802\n",
            "Savings           6213.051446\n",
            "Name: 1, dtype: float64\n",
            "-----\n",
            "Cluster 3 Persona:\n",
            "Age                 87.775510\n",
            "Income           27866.102041\n",
            "SpendingScore        0.328800\n",
            "Savings          16659.261445\n",
            "Name: 2, dtype: float64\n",
            "-----\n"
          ]
        }
      ]
    },
    {
      "cell_type": "markdown",
      "metadata": {
        "id": "ihVtYBWg1NM6"
      },
      "source": [
        "## 1.2: Clustering Algorithm #2"
      ]
    },
    {
      "cell_type": "code",
      "metadata": {
        "id": "Pu2xugQj1Mci",
        "outputId": "c09a931c-c23f-4825-dfff-22a9885d1606",
        "colab": {
          "base_uri": "https://localhost:8080/",
          "height": 1000
        }
      },
      "source": [
        "from sklearn.cluster import AgglomerativeClustering\n",
        "# Apply dimensionality reduction (PCA) for visualization (optional)\n",
        "pca = PCA(n_components=2)\n",
        "X_pca = pca.fit_transform(X_scaled)\n",
        "\n",
        "# Initialize AgglomerativeClustering with a fixed number of clusters (K)\n",
        "agg_clustering = AgglomerativeClustering(n_clusters=3)\n",
        "cluster_labels_agg = agg_clustering.fit_predict(X_scaled)\n",
        "\n",
        "# Plot the clusters (assuming PCA for visualization)\n",
        "plt.scatter(X_pca[:, 0], X_pca[:, 1], c=cluster_labels_agg, cmap='viridis')\n",
        "plt.xlabel('PCA Component 1')\n",
        "plt.ylabel('PCA Component 2')\n",
        "plt.title('Clustering of Customer Personas (Agglomerative Clustering)')\n",
        "plt.show()\n",
        "\n",
        "# Describe each cluster persona based on original data\n",
        "for cluster_id in range(3):\n",
        "    cluster_data = df1[cluster_labels_agg == cluster_id]\n",
        "    print(f\"Cluster {cluster_id + 1} Persona:\")\n",
        "    print(cluster_data.describe())\n",
        "    print(\"-----\")"
      ],
      "execution_count": 11,
      "outputs": [
        {
          "output_type": "display_data",
          "data": {
            "text/plain": [
              "<Figure size 640x480 with 1 Axes>"
            ],
            "image/png": "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\n"
          },
          "metadata": {}
        },
        {
          "output_type": "stream",
          "name": "stdout",
          "text": [
            "Cluster 1 Persona:\n",
            "              Age         Income  SpendingScore       Savings\n",
            "count  207.000000     207.000000     207.000000    207.000000\n",
            "mean    51.314010   85873.439614       0.801802   6213.051446\n",
            "std     15.730218   24614.843995       0.070352   1634.832742\n",
            "min     17.000000   56321.000000       0.657314      0.000000\n",
            "25%     53.000000   69676.500000       0.751837   5310.413472\n",
            "50%     58.000000   74751.000000       0.787890   6509.411506\n",
            "75%     61.000000   87422.500000       0.846419   7276.962153\n",
            "max     68.000000  142000.000000       1.000000  10547.775368\n",
            "-----\n",
            "Cluster 2 Persona:\n",
            "              Age         Income  SpendingScore       Savings\n",
            "count  151.000000     151.000000     151.000000    151.000000\n",
            "mean    41.589404  107695.980132       0.269935  14937.265769\n",
            "std     20.200750    8042.461145       0.100465   1075.989082\n",
            "min     22.000000   89598.000000       0.000000  12207.526078\n",
            "25%     31.000000  101572.000000       0.252243  14135.059363\n",
            "50%     34.000000  107115.000000       0.303596  14937.995170\n",
            "75%     37.000000  112234.000000       0.335349  15647.489194\n",
            "max     93.000000  128596.000000       0.411112  17968.553929\n",
            "-----\n",
            "Cluster 3 Persona:\n",
            "              Age        Income  SpendingScore       Savings\n",
            "count  147.000000    147.000000     147.000000    147.000000\n",
            "mean    87.775510  27866.102041       0.328800  16659.261445\n",
            "std      3.508885   6448.805481       0.045224   1183.850178\n",
            "min     79.000000  12000.000000       0.203140  13470.970605\n",
            "25%     85.000000  23361.000000       0.301502  15957.282919\n",
            "50%     88.000000  27771.000000       0.324719  16711.067980\n",
            "75%     91.000000  32601.000000       0.357267  17433.126684\n",
            "max     97.000000  46977.000000       0.473550  20000.000000\n",
            "-----\n"
          ]
        }
      ]
    },
    {
      "cell_type": "markdown",
      "metadata": {
        "id": "6ySJIgNr1Sfy"
      },
      "source": [
        "## 1.3 Model Comparison"
      ]
    },
    {
      "cell_type": "markdown",
      "metadata": {
        "id": "gwQembOT1L6U"
      },
      "source": [
        "TODO: Delete this text and insert your answer here."
      ]
    },
    {
      "cell_type": "markdown",
      "metadata": {
        "id": "MP2EAnCJ1Xta"
      },
      "source": [
        "## 1.4 Personas"
      ]
    },
    {
      "cell_type": "markdown",
      "metadata": {
        "id": "dVewu2TZ1XhK"
      },
      "source": [
        "TODO: Delete this text and insert your answer here."
      ]
    },
    {
      "cell_type": "markdown",
      "metadata": {
        "id": "DYwuYIgczYSv"
      },
      "source": [
        "# Question 2: Uncle Steve's Fine Foods"
      ]
    },
    {
      "cell_type": "markdown",
      "metadata": {
        "id": "4oCr-mTfNG-H"
      },
      "source": [
        "## Instructions\n",
        "\n",
        "Uncle Steve runs a small, local grocery store in Ontario. The store sells all the normal food staples (e.g., bread, milk, cheese, eggs, more cheese, fruits, vegatables, meat, fish, waffles, ice cream, pasta, cereals, drinks), personal care products (e.g., toothpaste, shampoo, hair goo), medicine, and cakes. There's even a little section with flowers and greeting cards! Normal people shop here, and buy normal things in the normal way.\n",
        "\n",
        "Business is OK but Uncle Steve wants more. He's thus on the hunt for customer insights. Given your success at the jewelry store, he has asked you to help him out.\n",
        "\n",
        "He has given you a few years' worth of customer transactions, i.e., sets of items that customers have purchased. You have applied an association rules learning algorithm (like Apriori) to the data, and the algorithm has generated a large set of association rules of the form `{X} -> {Y}`, where `{X}` and `{Y}` are item-sets.\n",
        "\n",
        "Now comes a thought experiment. For each of the following scenarios, state what one of the discovered association rules might be that would meet the stated condition. (Just make up the rule, using your human experience and intuition.) Also, describe whether and why each rule would be considered interesting or uninteresting for Uncle Steve (i.e., is this insight new to him? Would he be able to use it somehow?).\n",
        "\n",
        "Keep each answer to 600 characters or less (including spaces).\n",
        "\n",
        "To get those brain juices going, an example condition and answer is provided below:\n",
        "\n",
        "> Condition: A rule that has high support.\n",
        "\n",
        "> Answer: The rule `{milk} -> {bread}` would have high support, since milk and bread are household staples and a high percentage of transactions would include both `{milk}` and `{bread}`. Uncle Steve would likely not find this rule interesting, because these items are so common, he would have surely already noticed that so many transactions contain them.\n",
        "\n",
        "**Marking**\n",
        "\n",
        "Your responses will be marked as follows:\n",
        "\n",
        "- *Correctness*. Rule meets the specificed condition, and seems plausible in an Ontario grocery store.\n",
        "- *Justification of interestness*. Response clearly describes whether and why the rule would be considered interesting to Uncle Steve.\n",
        "\n",
        "**Tips**\n",
        "\n",
        "- There is no actual data for this question. This question is just a thought exercise. You need to use your intuition, creatitivty, and understanding of the real world. I assume you are familiar with what happens inside of normal grocery stores. We are not using actual data and you do not need to create/generate/find any data. I repeat: there is no data for this question.\n",
        "- The reason this question is having you do a thought experiment, rather than writing and running code to find actual association rules on an actual dataset, is because writing code to find association rules is actually pretty easy. But using your brain to come up with rules that meet certain criteria, on the other hand, is a true test of whether you understand how the algorithm works, what support and confidence mean, and the applicability of rules. The question uses the grocery store context because most, if not all, students should be familiar from personal experience.\n",
        "\n"
      ]
    },
    {
      "cell_type": "markdown",
      "metadata": {
        "id": "3YQsOb6CzYVq"
      },
      "source": [
        "## 2.1: A rule that might have high support and high confidence."
      ]
    },
    {
      "cell_type": "markdown",
      "metadata": {
        "id": "DzXu1IvK-MEg"
      },
      "source": [
        "TODO: Delete this text and insert your answer here."
      ]
    },
    {
      "cell_type": "markdown",
      "metadata": {
        "id": "VNIrAgJk-L4l"
      },
      "source": [
        "## 2.2: A rule that might have reasonably high support but low confidence."
      ]
    },
    {
      "cell_type": "markdown",
      "metadata": {
        "id": "svdzYW3S-LvF"
      },
      "source": [
        "TODO: Delete this text and insert your answer here."
      ]
    },
    {
      "cell_type": "markdown",
      "metadata": {
        "id": "loe--LMz-Ll8"
      },
      "source": [
        "## 2.3: A rule that might have low support and low confidence."
      ]
    },
    {
      "cell_type": "markdown",
      "metadata": {
        "id": "HdyOB5fe-Zgy"
      },
      "source": [
        "TODO: Delete this text and insert your answer here."
      ]
    },
    {
      "cell_type": "markdown",
      "metadata": {
        "id": "St2eI3We-ZYs"
      },
      "source": [
        "## 2.4: A rule that might have low support and high confidence."
      ]
    },
    {
      "cell_type": "markdown",
      "metadata": {
        "id": "LcdZc-B1-fE7"
      },
      "source": [
        "TODO: Delete this text and insert your answer here."
      ]
    },
    {
      "cell_type": "markdown",
      "metadata": {
        "id": "B_IHoz7f2yIV"
      },
      "source": [
        "# Question 3: Uncle Steve's Credit Union"
      ]
    },
    {
      "cell_type": "markdown",
      "metadata": {
        "id": "WhERdkp_zYBY"
      },
      "source": [
        "## Instructions\n",
        "\n",
        "Uncle Steve has recently opened a new credit union in Kingston, named *Uncle Steve's Credit Union*. He plans to disrupt the local market by instaneously providing credit to customers.\n",
        "\n",
        "The first step in Uncle Steve's master plan is to create a model to predict whether an application has *good risk* or *bad risk*. He has outsourced the creation of this model to you.\n",
        "\n",
        "You are to create a classification model to predict whether a loan applicant has good risk or bad risk. You will use data  that Uncle Steve bought from another credit union (somewhere in Europe, he thinks?) that has around 6000 instances and a number of demographics features (e.g., `Sex`, `DateOfBirth`, `Married`), loan details (e.g., `Amount`, `Purpose`), credit history (e.g., number of loans), as well as an indicator (called `BadCredit` in the dataset) as to whether that person was a bad risk.\n",
        "\n",
        "\n",
        "**Your tasks**\n",
        "\n",
        "To examine the effects of the various ML stages, you are to create the model several times, each time adding more sophistication, and measuring how much the model improved (or not). In particular, you will:\n",
        "\n",
        "0. Split the data in training and testing. Don't touch the testing data again, for any reason, until step 5. We are pretending that the testing data is \"future, unseen data that our model won't see until production.\" I'm serious, don't touch it. I'm watching you!\n",
        "1. Build a baseline model - no feature engineering, no feature selection, no hyperparameter tuning (just use the default settings), nothing fancy. (You may need to do some basic feature transformations, e.g., encoding of categorical features, or dropping of features you do not think will help or do not want to deal with yet.) Measure the performance using K-fold cross validation (recommended: [`sklearn.model_selection.cross_val_score`](https://scikit-learn.org/stable/modules/generated/sklearn.model_selection.cross_val_score.html#sklearn.model_selection.cross_val_score)) on the training data. Use at least 5 folds, but more are better. Choose a [`scoring` parameter](https://scikit-learn.org/stable/modules/model_evaluation.html#scoring-parameter) (i.e., classification metric) that you feel is appropriate for this task. Don't use accuracy. Print the mean score of your model.\n",
        "2. Add a bit of feature engineering. The [`sklearn.preprocessing`](https://scikit-learn.org/stable/modules/classes.html#module-sklearn.preprocessing) module contains many useful transformations. Engineer at least three new features. They don't need to be especially ground-breaking or complicated. Dimensionality reduction techniques like [`sklearn.decomposition.PCA`](https://scikit-learn.org/stable/modules/generated/sklearn.decomposition.PCA.html) are fair game but not required. (If you do use dimensionality reduction techniques, it would only count as \"one\" new feature for the purposes of this assignment, even though I realize that PCA creates many new \"features\" (i.e., principal components).) Re-train your baseline model. Measure performance. Compare to step 1.\n",
        "3. Add feature selection. The [`sklearn.feature_selection`](https://scikit-learn.org/stable/modules/classes.html#module-sklearn.feature_selection) has some algorithms for you to choose from. After selecting features, re-train your model, measure performance, and compare to step 2.\n",
        "4. Add hyperparameter tuning. Make reasonable choices and try to find the best (or at least, better) hyperparameters for your estimator and/or transformers. It's probably a good idea to stop using `cross_val_score` at this point and start using [`sklearn.model_selection.GridSearchCV`](https://scikit-learn.org/stable/modules/generated/sklearn.model_selection.GridSearchCV.html#sklearn.model_selection.GridSearchCV) as it is specifically built for this purpose and is more convienient to use. Measure performance and compare to step 3.\n",
        "5. Finally, using your findings from the previous steps, estimate how well your model will work in production. Use the testing data (our \"future, unseen data\") from step 0. Transform the data as appropriate (easy if you've built a pipeline, a little more difficult if not), use the model from step 4 to get predictions, and measure the performance. How well did we do?\n",
        "\n",
        "\n",
        "**Marking**\n",
        "\n",
        "Each part will be marked for:\n",
        "- *Correctness*. Code clearly and fully performs the task specified.\n",
        "- *Reproducibility*. Code is fully reproducible. I.e., you (and I) should be able to run this Notebook again and again, from top to bottom, and get the same results each and every time.\n",
        "- *Style*. Code is organized. All parts commented with clear reasoning and rationale. No old code laying around. Code easy to follow.\n",
        "\n",
        "\n",
        "**Tips**\n",
        "- The origins of the dataset are a bit of a mystery. Assume the data set is recent (circa 2022) and up-to-date. Assume that column names are correct and accurate.\n",
        "- You don't need to experiment with more than one algorithm/estimator. Just choose one (e.g., [`sklearn.tree.DecisionTreeClassifier`](https://scikit-learn.org/stable/modules/generated/sklearn.tree.DecisionTreeClassifier.html#sklearn.tree.DecisionTreeClassifier), [`sklearn.ensemble.RandomForestClassifier`](https://scikit-learn.org/stable/modules/generated/sklearn.ensemble.RandomForestClassifier.html#sklearn.ensemble.RandomForestClassifier), [`sklearn.linear_model.LogisticRegression`](https://scikit-learn.org/stable/modules/generated/sklearn.linear_model.LogisticRegression.html#sklearn.linear_model.LogisticRegression), [`sklearn.svm.LinearSVC`](https://scikit-learn.org/stable/modules/generated/sklearn.svm.LinearSVC.html#sklearn.svm.LinearSVC), whatever) and stick with it for this question.\n",
        "- There is no minimum accuracy/precision/recall for this question. I.e., your mark will not be based on how good your model is. Rather, you mark will be based on good your process is.\n",
        "- Watch out for data leakage and overfitting. In particular, be sure to `fit()` any estimators and transformers (collectively, *objects*) only to the training data, and then use the objects' `transform()` methods on both the training and testing data. [Data School](https://www.youtube.com/c/dataschool/featured) has a [helpful video](https://www.youtube.com/watch?v=g2XsZdwbCCs) about this. [Pipelines](https://www.youtube.com/watch?v=1Y6O9nCo0-I) are very helpful here and make your code shorter and more robust (at the expense of making it harder to understand), and I recommend using them, but they are not required for this assignment.\n",
        "- Create as many code cells as you need. In general, each cell should do one \"thing.\"\n",
        "-\tDon't print large volumes of output. E.g., don't do: `df.head(100)`\n",
        "\n",
        "\n"
      ]
    },
    {
      "cell_type": "markdown",
      "metadata": {
        "id": "jqm_REd4oouz"
      },
      "source": [
        "## 3.0: Load data and split"
      ]
    },
    {
      "cell_type": "code",
      "metadata": {
        "id": "X6b_BM0Nz9sF",
        "colab": {
          "base_uri": "https://localhost:8080/"
        },
        "outputId": "f388374f-cb94-4ba4-cdae-f4f45e0e8344"
      },
      "source": [
        "# DO NOT MODIFY THIS CELL\n",
        "\n",
        "# First, we'll read the provided labeled training data\n",
        "df3 = pd.read_csv(\"https://drive.google.com/uc?export=download&id=1wOhyCnvGeY4jplxI8lZ-bbYN3zLtickf\")\n",
        "df3.info()\n",
        "\n",
        "from sklearn.model_selection import train_test_split\n",
        "\n",
        "X = df3.drop('BadCredit', axis=1) #.select_dtypes(['number'])\n",
        "y = df3['BadCredit']\n",
        "\n",
        "X_train, X_test, y_train, y_test = train_test_split(X, y, test_size=0.2, random_state=42)"
      ],
      "execution_count": 14,
      "outputs": [
        {
          "output_type": "stream",
          "name": "stdout",
          "text": [
            "<class 'pandas.core.frame.DataFrame'>\n",
            "RangeIndex: 6000 entries, 0 to 5999\n",
            "Data columns (total 17 columns):\n",
            " #   Column             Non-Null Count  Dtype \n",
            "---  ------             --------------  ----- \n",
            " 0   UserID             6000 non-null   object\n",
            " 1   Sex                6000 non-null   object\n",
            " 2   PreviousDefault    6000 non-null   int64 \n",
            " 3   FirstName          6000 non-null   object\n",
            " 4   LastName           6000 non-null   object\n",
            " 5   NumberPets         6000 non-null   int64 \n",
            " 6   PreviousAccounts   6000 non-null   int64 \n",
            " 7   ResidenceDuration  6000 non-null   int64 \n",
            " 8   Street             6000 non-null   object\n",
            " 9   LicensePlate       6000 non-null   object\n",
            " 10  BadCredit          6000 non-null   int64 \n",
            " 11  Amount             6000 non-null   int64 \n",
            " 12  Married            6000 non-null   int64 \n",
            " 13  Duration           6000 non-null   int64 \n",
            " 14  City               6000 non-null   object\n",
            " 15  Purpose            6000 non-null   object\n",
            " 16  DateOfBirth        6000 non-null   object\n",
            "dtypes: int64(8), object(9)\n",
            "memory usage: 797.0+ KB\n"
          ]
        }
      ]
    },
    {
      "cell_type": "markdown",
      "metadata": {
        "id": "sdiKKblCo53S"
      },
      "source": [
        "## 3.1: Baseline model"
      ]
    },
    {
      "cell_type": "code",
      "metadata": {
        "id": "mSumAZUAo9O6",
        "outputId": "5d6541f8-b746-4dad-aaa0-c7b031a96ccf",
        "colab": {
          "base_uri": "https://localhost:8080/"
        }
      },
      "source": [
        "from sklearn.preprocessing import OneHotEncoder\n",
        "# One-hot encode categorical features\n",
        "encoder = OneHotEncoder()\n",
        "X_encoded = encoder.fit_transform(X)\n",
        "\n",
        "# Split the data into training and testing sets\n",
        "X_train, X_test, y_train, y_test = train_test_split(X_encoded, y, test_size=0.2, random_state=42)\n",
        "\n",
        "# Initialize the RandomForestClassifier with default settings\n",
        "baseline_model = RandomForestClassifier(random_state=42)\n",
        "\n",
        "# Perform K-fold cross-validation (5 folds) using AUC as the scoring metric\n",
        "cv_scores = cross_val_score(baseline_model, X_train, y_train, cv=5, scoring='roc_auc')\n",
        "\n",
        "# Calculate the mean score of the model\n",
        "mean_score = cv_scores.mean()\n",
        "print(\"Mean AUC Score of the Baseline Model:\", mean_score)\n"
      ],
      "execution_count": 17,
      "outputs": [
        {
          "output_type": "stream",
          "name": "stdout",
          "text": [
            "Mean AUC Score of the Baseline Model: 0.6072341433970767\n"
          ]
        }
      ]
    },
    {
      "cell_type": "markdown",
      "metadata": {
        "id": "ugyTS51Ko5vz"
      },
      "source": [
        "## 3.2: Adding feature engineering"
      ]
    },
    {
      "cell_type": "code",
      "metadata": {
        "id": "742aYkYbprVD",
        "outputId": "6d24ada4-0be7-4250-ecbf-dab16cdc07ef",
        "colab": {
          "base_uri": "https://localhost:8080/",
          "height": 380
        }
      },
      "source": [
        "# Feature engineering: Extract the age from 'DateOfBirth'\n",
        "df3['DateOfBirth'] = pd.to_datetime(df3['DateOfBirth'])\n",
        "df3['Age'] = (pd.to_datetime('today') - df3['DateOfBirth']).astype('<m8[Y]')\n",
        "\n",
        "# Drop unnecessary columns\n",
        "df = df3.drop(['UserID', 'FirstName', 'LastName', 'Street', 'LicensePlate', 'DateOfBirth'], axis=1)\n",
        "\n",
        "# Encode categorical features\n",
        "df = pd.get_dummies(df3, columns=['Sex', 'Married', 'Purpose'])\n",
        "\n",
        "# Split the data into training and testing sets\n",
        "X = df.drop('BadCredit', axis=1)\n",
        "y = df['BadCredit']\n",
        "X_train, X_test, y_train, y_test = train_test_split(X, y, test_size=0.2, random_state=42)\n",
        "\n",
        "# Build the baseline model (without feature engineering)\n",
        "baseline_model = RandomForestClassifier(random_state=42)\n",
        "baseline_model.fit(X_train, y_train)\n",
        "\n",
        "# Perform K-fold cross-validation (5 folds) using AUC as the scoring metric\n",
        "cv_scores = cross_val_score(baseline_model, X_train, y_train, cv=5, scoring='roc_auc')\n",
        "\n",
        "# Calculate the mean score of the model\n",
        "mean_auc = cv_scores.mean()\n",
        "print(\"Mean AUC Score of the Baseline Model:\", mean_auc)\n",
        "\n",
        "# Split the data into training and testing sets\n",
        "X_train, X_test, y_train, y_test = train_test_split(X_scaled, y, test_size=0.2, random_state=42)\n",
        "\n",
        "# Create and train the baseline model\n",
        "baseline_model = RandomForestClassifier(random_state=42)\n",
        "baseline_model.fit(X_train, y_train)\n",
        "\n",
        "# Perform K-fold cross-validation (5 folds) using AUC as the scoring metric\n",
        "cv_scores = cross_val_score(baseline_model, X_train, y_train, cv=5, scoring='roc_auc')\n",
        "\n",
        "# Calculate the mean score of the model\n",
        "mean_auc_score = cv_scores.mean()\n",
        "\n",
        "# Compare the performance with Step 1 (Baseline model without feature engineering)\n",
        "print(\"Mean AUC Score of the Baseline Model with Feature Engineering:\", mean_auc_score)"
      ],
      "execution_count": 23,
      "outputs": [
        {
          "output_type": "error",
          "ename": "ValueError",
          "evalue": "ignored",
          "traceback": [
            "\u001b[0;31m---------------------------------------------------------------------------\u001b[0m",
            "\u001b[0;31mValueError\u001b[0m                                Traceback (most recent call last)",
            "\u001b[0;32m<ipython-input-23-010312549f81>\u001b[0m in \u001b[0;36m<cell line: 18>\u001b[0;34m()\u001b[0m\n\u001b[1;32m     16\u001b[0m \u001b[0;31m# Build the baseline model (without feature engineering)\u001b[0m\u001b[0;34m\u001b[0m\u001b[0;34m\u001b[0m\u001b[0m\n\u001b[1;32m     17\u001b[0m \u001b[0mbaseline_model\u001b[0m \u001b[0;34m=\u001b[0m \u001b[0mRandomForestClassifier\u001b[0m\u001b[0;34m(\u001b[0m\u001b[0mrandom_state\u001b[0m\u001b[0;34m=\u001b[0m\u001b[0;36m42\u001b[0m\u001b[0;34m)\u001b[0m\u001b[0;34m\u001b[0m\u001b[0;34m\u001b[0m\u001b[0m\n\u001b[0;32m---> 18\u001b[0;31m \u001b[0mbaseline_model\u001b[0m\u001b[0;34m.\u001b[0m\u001b[0mfit\u001b[0m\u001b[0;34m(\u001b[0m\u001b[0mX_train\u001b[0m\u001b[0;34m,\u001b[0m \u001b[0my_train\u001b[0m\u001b[0;34m)\u001b[0m\u001b[0;34m\u001b[0m\u001b[0;34m\u001b[0m\u001b[0m\n\u001b[0m\u001b[1;32m     19\u001b[0m \u001b[0;34m\u001b[0m\u001b[0m\n\u001b[1;32m     20\u001b[0m \u001b[0;31m# Perform K-fold cross-validation (5 folds) using AUC as the scoring metric\u001b[0m\u001b[0;34m\u001b[0m\u001b[0;34m\u001b[0m\u001b[0m\n",
            "\u001b[0;32m/usr/local/lib/python3.10/dist-packages/sklearn/ensemble/_forest.py\u001b[0m in \u001b[0;36mfit\u001b[0;34m(self, X, y, sample_weight)\u001b[0m\n\u001b[1;32m    343\u001b[0m         \u001b[0;32mif\u001b[0m \u001b[0missparse\u001b[0m\u001b[0;34m(\u001b[0m\u001b[0my\u001b[0m\u001b[0;34m)\u001b[0m\u001b[0;34m:\u001b[0m\u001b[0;34m\u001b[0m\u001b[0;34m\u001b[0m\u001b[0m\n\u001b[1;32m    344\u001b[0m             \u001b[0;32mraise\u001b[0m \u001b[0mValueError\u001b[0m\u001b[0;34m(\u001b[0m\u001b[0;34m\"sparse multilabel-indicator for y is not supported.\"\u001b[0m\u001b[0;34m)\u001b[0m\u001b[0;34m\u001b[0m\u001b[0;34m\u001b[0m\u001b[0m\n\u001b[0;32m--> 345\u001b[0;31m         X, y = self._validate_data(\n\u001b[0m\u001b[1;32m    346\u001b[0m             \u001b[0mX\u001b[0m\u001b[0;34m,\u001b[0m \u001b[0my\u001b[0m\u001b[0;34m,\u001b[0m \u001b[0mmulti_output\u001b[0m\u001b[0;34m=\u001b[0m\u001b[0;32mTrue\u001b[0m\u001b[0;34m,\u001b[0m \u001b[0maccept_sparse\u001b[0m\u001b[0;34m=\u001b[0m\u001b[0;34m\"csc\"\u001b[0m\u001b[0;34m,\u001b[0m \u001b[0mdtype\u001b[0m\u001b[0;34m=\u001b[0m\u001b[0mDTYPE\u001b[0m\u001b[0;34m\u001b[0m\u001b[0;34m\u001b[0m\u001b[0m\n\u001b[1;32m    347\u001b[0m         )\n",
            "\u001b[0;32m/usr/local/lib/python3.10/dist-packages/sklearn/base.py\u001b[0m in \u001b[0;36m_validate_data\u001b[0;34m(self, X, y, reset, validate_separately, **check_params)\u001b[0m\n\u001b[1;32m    582\u001b[0m                 \u001b[0my\u001b[0m \u001b[0;34m=\u001b[0m \u001b[0mcheck_array\u001b[0m\u001b[0;34m(\u001b[0m\u001b[0my\u001b[0m\u001b[0;34m,\u001b[0m \u001b[0minput_name\u001b[0m\u001b[0;34m=\u001b[0m\u001b[0;34m\"y\"\u001b[0m\u001b[0;34m,\u001b[0m \u001b[0;34m**\u001b[0m\u001b[0mcheck_y_params\u001b[0m\u001b[0;34m)\u001b[0m\u001b[0;34m\u001b[0m\u001b[0;34m\u001b[0m\u001b[0m\n\u001b[1;32m    583\u001b[0m             \u001b[0;32melse\u001b[0m\u001b[0;34m:\u001b[0m\u001b[0;34m\u001b[0m\u001b[0;34m\u001b[0m\u001b[0m\n\u001b[0;32m--> 584\u001b[0;31m                 \u001b[0mX\u001b[0m\u001b[0;34m,\u001b[0m \u001b[0my\u001b[0m \u001b[0;34m=\u001b[0m \u001b[0mcheck_X_y\u001b[0m\u001b[0;34m(\u001b[0m\u001b[0mX\u001b[0m\u001b[0;34m,\u001b[0m \u001b[0my\u001b[0m\u001b[0;34m,\u001b[0m \u001b[0;34m**\u001b[0m\u001b[0mcheck_params\u001b[0m\u001b[0;34m)\u001b[0m\u001b[0;34m\u001b[0m\u001b[0;34m\u001b[0m\u001b[0m\n\u001b[0m\u001b[1;32m    585\u001b[0m             \u001b[0mout\u001b[0m \u001b[0;34m=\u001b[0m \u001b[0mX\u001b[0m\u001b[0;34m,\u001b[0m \u001b[0my\u001b[0m\u001b[0;34m\u001b[0m\u001b[0;34m\u001b[0m\u001b[0m\n\u001b[1;32m    586\u001b[0m \u001b[0;34m\u001b[0m\u001b[0m\n",
            "\u001b[0;32m/usr/local/lib/python3.10/dist-packages/sklearn/utils/validation.py\u001b[0m in \u001b[0;36mcheck_X_y\u001b[0;34m(X, y, accept_sparse, accept_large_sparse, dtype, order, copy, force_all_finite, ensure_2d, allow_nd, multi_output, ensure_min_samples, ensure_min_features, y_numeric, estimator)\u001b[0m\n\u001b[1;32m   1104\u001b[0m         )\n\u001b[1;32m   1105\u001b[0m \u001b[0;34m\u001b[0m\u001b[0m\n\u001b[0;32m-> 1106\u001b[0;31m     X = check_array(\n\u001b[0m\u001b[1;32m   1107\u001b[0m         \u001b[0mX\u001b[0m\u001b[0;34m,\u001b[0m\u001b[0;34m\u001b[0m\u001b[0;34m\u001b[0m\u001b[0m\n\u001b[1;32m   1108\u001b[0m         \u001b[0maccept_sparse\u001b[0m\u001b[0;34m=\u001b[0m\u001b[0maccept_sparse\u001b[0m\u001b[0;34m,\u001b[0m\u001b[0;34m\u001b[0m\u001b[0;34m\u001b[0m\u001b[0m\n",
            "\u001b[0;32m/usr/local/lib/python3.10/dist-packages/sklearn/utils/validation.py\u001b[0m in \u001b[0;36mcheck_array\u001b[0;34m(array, accept_sparse, accept_large_sparse, dtype, order, copy, force_all_finite, ensure_2d, allow_nd, ensure_min_samples, ensure_min_features, estimator, input_name)\u001b[0m\n\u001b[1;32m    877\u001b[0m                     \u001b[0marray\u001b[0m \u001b[0;34m=\u001b[0m \u001b[0mxp\u001b[0m\u001b[0;34m.\u001b[0m\u001b[0mastype\u001b[0m\u001b[0;34m(\u001b[0m\u001b[0marray\u001b[0m\u001b[0;34m,\u001b[0m \u001b[0mdtype\u001b[0m\u001b[0;34m,\u001b[0m \u001b[0mcopy\u001b[0m\u001b[0;34m=\u001b[0m\u001b[0;32mFalse\u001b[0m\u001b[0;34m)\u001b[0m\u001b[0;34m\u001b[0m\u001b[0;34m\u001b[0m\u001b[0m\n\u001b[1;32m    878\u001b[0m                 \u001b[0;32melse\u001b[0m\u001b[0;34m:\u001b[0m\u001b[0;34m\u001b[0m\u001b[0;34m\u001b[0m\u001b[0m\n\u001b[0;32m--> 879\u001b[0;31m                     \u001b[0marray\u001b[0m \u001b[0;34m=\u001b[0m \u001b[0m_asarray_with_order\u001b[0m\u001b[0;34m(\u001b[0m\u001b[0marray\u001b[0m\u001b[0;34m,\u001b[0m \u001b[0morder\u001b[0m\u001b[0;34m=\u001b[0m\u001b[0morder\u001b[0m\u001b[0;34m,\u001b[0m \u001b[0mdtype\u001b[0m\u001b[0;34m=\u001b[0m\u001b[0mdtype\u001b[0m\u001b[0;34m,\u001b[0m \u001b[0mxp\u001b[0m\u001b[0;34m=\u001b[0m\u001b[0mxp\u001b[0m\u001b[0;34m)\u001b[0m\u001b[0;34m\u001b[0m\u001b[0;34m\u001b[0m\u001b[0m\n\u001b[0m\u001b[1;32m    880\u001b[0m             \u001b[0;32mexcept\u001b[0m \u001b[0mComplexWarning\u001b[0m \u001b[0;32mas\u001b[0m \u001b[0mcomplex_warning\u001b[0m\u001b[0;34m:\u001b[0m\u001b[0;34m\u001b[0m\u001b[0;34m\u001b[0m\u001b[0m\n\u001b[1;32m    881\u001b[0m                 raise ValueError(\n",
            "\u001b[0;32m/usr/local/lib/python3.10/dist-packages/sklearn/utils/_array_api.py\u001b[0m in \u001b[0;36m_asarray_with_order\u001b[0;34m(array, dtype, order, copy, xp)\u001b[0m\n\u001b[1;32m    183\u001b[0m     \u001b[0;32mif\u001b[0m \u001b[0mxp\u001b[0m\u001b[0;34m.\u001b[0m\u001b[0m__name__\u001b[0m \u001b[0;32min\u001b[0m \u001b[0;34m{\u001b[0m\u001b[0;34m\"numpy\"\u001b[0m\u001b[0;34m,\u001b[0m \u001b[0;34m\"numpy.array_api\"\u001b[0m\u001b[0;34m}\u001b[0m\u001b[0;34m:\u001b[0m\u001b[0;34m\u001b[0m\u001b[0;34m\u001b[0m\u001b[0m\n\u001b[1;32m    184\u001b[0m         \u001b[0;31m# Use NumPy API to support order\u001b[0m\u001b[0;34m\u001b[0m\u001b[0;34m\u001b[0m\u001b[0m\n\u001b[0;32m--> 185\u001b[0;31m         \u001b[0marray\u001b[0m \u001b[0;34m=\u001b[0m \u001b[0mnumpy\u001b[0m\u001b[0;34m.\u001b[0m\u001b[0masarray\u001b[0m\u001b[0;34m(\u001b[0m\u001b[0marray\u001b[0m\u001b[0;34m,\u001b[0m \u001b[0morder\u001b[0m\u001b[0;34m=\u001b[0m\u001b[0morder\u001b[0m\u001b[0;34m,\u001b[0m \u001b[0mdtype\u001b[0m\u001b[0;34m=\u001b[0m\u001b[0mdtype\u001b[0m\u001b[0;34m)\u001b[0m\u001b[0;34m\u001b[0m\u001b[0;34m\u001b[0m\u001b[0m\n\u001b[0m\u001b[1;32m    186\u001b[0m         \u001b[0;32mreturn\u001b[0m \u001b[0mxp\u001b[0m\u001b[0;34m.\u001b[0m\u001b[0masarray\u001b[0m\u001b[0;34m(\u001b[0m\u001b[0marray\u001b[0m\u001b[0;34m,\u001b[0m \u001b[0mcopy\u001b[0m\u001b[0;34m=\u001b[0m\u001b[0mcopy\u001b[0m\u001b[0;34m)\u001b[0m\u001b[0;34m\u001b[0m\u001b[0;34m\u001b[0m\u001b[0m\n\u001b[1;32m    187\u001b[0m     \u001b[0;32melse\u001b[0m\u001b[0;34m:\u001b[0m\u001b[0;34m\u001b[0m\u001b[0;34m\u001b[0m\u001b[0m\n",
            "\u001b[0;32m/usr/local/lib/python3.10/dist-packages/pandas/core/generic.py\u001b[0m in \u001b[0;36m__array__\u001b[0;34m(self, dtype)\u001b[0m\n\u001b[1;32m   2068\u001b[0m \u001b[0;34m\u001b[0m\u001b[0m\n\u001b[1;32m   2069\u001b[0m     \u001b[0;32mdef\u001b[0m \u001b[0m__array__\u001b[0m\u001b[0;34m(\u001b[0m\u001b[0mself\u001b[0m\u001b[0;34m,\u001b[0m \u001b[0mdtype\u001b[0m\u001b[0;34m:\u001b[0m \u001b[0mnpt\u001b[0m\u001b[0;34m.\u001b[0m\u001b[0mDTypeLike\u001b[0m \u001b[0;34m|\u001b[0m \u001b[0;32mNone\u001b[0m \u001b[0;34m=\u001b[0m \u001b[0;32mNone\u001b[0m\u001b[0;34m)\u001b[0m \u001b[0;34m->\u001b[0m \u001b[0mnp\u001b[0m\u001b[0;34m.\u001b[0m\u001b[0mndarray\u001b[0m\u001b[0;34m:\u001b[0m\u001b[0;34m\u001b[0m\u001b[0;34m\u001b[0m\u001b[0m\n\u001b[0;32m-> 2070\u001b[0;31m         \u001b[0;32mreturn\u001b[0m \u001b[0mnp\u001b[0m\u001b[0;34m.\u001b[0m\u001b[0masarray\u001b[0m\u001b[0;34m(\u001b[0m\u001b[0mself\u001b[0m\u001b[0;34m.\u001b[0m\u001b[0m_values\u001b[0m\u001b[0;34m,\u001b[0m \u001b[0mdtype\u001b[0m\u001b[0;34m=\u001b[0m\u001b[0mdtype\u001b[0m\u001b[0;34m)\u001b[0m\u001b[0;34m\u001b[0m\u001b[0;34m\u001b[0m\u001b[0m\n\u001b[0m\u001b[1;32m   2071\u001b[0m \u001b[0;34m\u001b[0m\u001b[0m\n\u001b[1;32m   2072\u001b[0m     def __array_wrap__(\n",
            "\u001b[0;31mValueError\u001b[0m: could not convert string to float: '236-22-6766'"
          ]
        }
      ]
    },
    {
      "cell_type": "code",
      "source": [
        "print(df3.columns)"
      ],
      "metadata": {
        "id": "X_dJpEw0OUCC",
        "outputId": "9edfaeae-870d-4660-80ae-1599c770c8ca",
        "colab": {
          "base_uri": "https://localhost:8080/"
        }
      },
      "execution_count": 22,
      "outputs": [
        {
          "output_type": "stream",
          "name": "stdout",
          "text": [
            "Index(['UserID', 'Sex', 'PreviousDefault', 'FirstName', 'LastName',\n",
            "       'NumberPets', 'PreviousAccounts', 'ResidenceDuration', 'Street',\n",
            "       'LicensePlate', 'BadCredit', 'Amount', 'Married', 'Duration', 'City',\n",
            "       'Purpose', 'DateOfBirth'],\n",
            "      dtype='object')\n"
          ]
        }
      ]
    },
    {
      "cell_type": "code",
      "source": [
        "# Check data type and unique values in the 'PreviousAccounts' column\n",
        "print(df['PreviousAccounts'].dtype)\n",
        "print(df['PreviousAccounts'].unique())\n"
      ],
      "metadata": {
        "id": "8LQIzm2QO3MF",
        "outputId": "6578b050-8899-405a-be7c-b416fbf15f06",
        "colab": {
          "base_uri": "https://localhost:8080/"
        }
      },
      "execution_count": 24,
      "outputs": [
        {
          "output_type": "stream",
          "name": "stdout",
          "text": [
            "int64\n",
            "[3 1 0 5 2 4 6]\n"
          ]
        }
      ]
    },
    {
      "cell_type": "code",
      "source": [
        "# Display the first few rows of the dataframe\n",
        "print(df.head())\n"
      ],
      "metadata": {
        "id": "UooH2-VkPAHD",
        "outputId": "0b7459dc-da1b-48f7-fad3-a1ab0e8711cf",
        "colab": {
          "base_uri": "https://localhost:8080/"
        }
      },
      "execution_count": 25,
      "outputs": [
        {
          "output_type": "stream",
          "name": "stdout",
          "text": [
            "        UserID  PreviousDefault  FirstName  LastName  NumberPets  \\\n",
            "0  218-84-8180                0      Debra  Schaefer           2   \n",
            "1  395-49-9764                0      Derek    Wright           0   \n",
            "2  892-81-4890                0    Shannon     Smith           0   \n",
            "3  081-11-7963                0  Christina    Brooks           2   \n",
            "4  347-03-9639                0      Ralph  Anderson           1   \n",
            "\n",
            "   PreviousAccounts  ResidenceDuration                      Street  \\\n",
            "0                 3                  1             503 Linda Locks   \n",
            "1                 1                  1       969 Cox Dam Suite 101   \n",
            "2                 0                  2            845 Kelly Estate   \n",
            "3                 1                  3             809 Burns Creek   \n",
            "4                 5                  1  248 Brandt Plains Apt. 465   \n",
            "\n",
            "  LicensePlate  BadCredit  ...  Married_0  Married_1 Purpose_Business  \\\n",
            "0         395C          0  ...          1          0                0   \n",
            "1      UFZ 691          0  ...          1          0                0   \n",
            "2      48A•281          0  ...          0          1                0   \n",
            "3      30Z J39          1  ...          0          1                0   \n",
            "4      71-Q331          1  ...          1          0                0   \n",
            "\n",
            "  Purpose_Education  Purpose_Household  Purpose_NewCar  Purpose_Other  \\\n",
            "0                 0                  0               0              0   \n",
            "1                 0                  0               1              0   \n",
            "2                 0                  0               1              0   \n",
            "3                 0                  0               0              1   \n",
            "4                 0                  0               0              0   \n",
            "\n",
            "   Purpose_Repair  Purpose_UsedCar  Purpose_Vacation  \n",
            "0               0                0                 1  \n",
            "1               0                0                 0  \n",
            "2               0                0                 0  \n",
            "3               0                0                 0  \n",
            "4               0                0                 1  \n",
            "\n",
            "[5 rows x 27 columns]\n"
          ]
        }
      ]
    },
    {
      "cell_type": "code",
      "source": [
        "# Split the data into training and testing sets\n",
        "X_train, X_test, y_train, y_test = train_test_split(X, y, test_size=0.2, random_state=42)\n",
        "\n",
        "# Build the baseline model (without feature engineering)\n",
        "baseline_model = RandomForestClassifier(random_state=42)\n",
        "baseline_model.fit(X_train, y_train)\n",
        "\n",
        "# Perform K-fold cross-validation (5 folds) using AUC as the scoring metric\n",
        "cv_scores = cross_val_score(baseline_model, X_train, y_train, cv=5, scoring='roc_auc')\n",
        "\n",
        "# Calculate the mean score of the model\n",
        "mean_auc_score_baseline = np.mean(cv_scores)\n",
        "print(\"Mean AUC Score of the Baseline Model:\", mean_auc_score_baseline)\n"
      ],
      "metadata": {
        "id": "MEF3wctpPNvX",
        "outputId": "79250d11-dd25-47eb-d36e-cc8a92c46d63",
        "colab": {
          "base_uri": "https://localhost:8080/",
          "height": 380
        }
      },
      "execution_count": 26,
      "outputs": [
        {
          "output_type": "error",
          "ename": "ValueError",
          "evalue": "ignored",
          "traceback": [
            "\u001b[0;31m---------------------------------------------------------------------------\u001b[0m",
            "\u001b[0;31mValueError\u001b[0m                                Traceback (most recent call last)",
            "\u001b[0;32m<ipython-input-26-8e89d452fafa>\u001b[0m in \u001b[0;36m<cell line: 6>\u001b[0;34m()\u001b[0m\n\u001b[1;32m      4\u001b[0m \u001b[0;31m# Build the baseline model (without feature engineering)\u001b[0m\u001b[0;34m\u001b[0m\u001b[0;34m\u001b[0m\u001b[0m\n\u001b[1;32m      5\u001b[0m \u001b[0mbaseline_model\u001b[0m \u001b[0;34m=\u001b[0m \u001b[0mRandomForestClassifier\u001b[0m\u001b[0;34m(\u001b[0m\u001b[0mrandom_state\u001b[0m\u001b[0;34m=\u001b[0m\u001b[0;36m42\u001b[0m\u001b[0;34m)\u001b[0m\u001b[0;34m\u001b[0m\u001b[0;34m\u001b[0m\u001b[0m\n\u001b[0;32m----> 6\u001b[0;31m \u001b[0mbaseline_model\u001b[0m\u001b[0;34m.\u001b[0m\u001b[0mfit\u001b[0m\u001b[0;34m(\u001b[0m\u001b[0mX_train\u001b[0m\u001b[0;34m,\u001b[0m \u001b[0my_train\u001b[0m\u001b[0;34m)\u001b[0m\u001b[0;34m\u001b[0m\u001b[0;34m\u001b[0m\u001b[0m\n\u001b[0m\u001b[1;32m      7\u001b[0m \u001b[0;34m\u001b[0m\u001b[0m\n\u001b[1;32m      8\u001b[0m \u001b[0;31m# Perform K-fold cross-validation (5 folds) using AUC as the scoring metric\u001b[0m\u001b[0;34m\u001b[0m\u001b[0;34m\u001b[0m\u001b[0m\n",
            "\u001b[0;32m/usr/local/lib/python3.10/dist-packages/sklearn/ensemble/_forest.py\u001b[0m in \u001b[0;36mfit\u001b[0;34m(self, X, y, sample_weight)\u001b[0m\n\u001b[1;32m    343\u001b[0m         \u001b[0;32mif\u001b[0m \u001b[0missparse\u001b[0m\u001b[0;34m(\u001b[0m\u001b[0my\u001b[0m\u001b[0;34m)\u001b[0m\u001b[0;34m:\u001b[0m\u001b[0;34m\u001b[0m\u001b[0;34m\u001b[0m\u001b[0m\n\u001b[1;32m    344\u001b[0m             \u001b[0;32mraise\u001b[0m \u001b[0mValueError\u001b[0m\u001b[0;34m(\u001b[0m\u001b[0;34m\"sparse multilabel-indicator for y is not supported.\"\u001b[0m\u001b[0;34m)\u001b[0m\u001b[0;34m\u001b[0m\u001b[0;34m\u001b[0m\u001b[0m\n\u001b[0;32m--> 345\u001b[0;31m         X, y = self._validate_data(\n\u001b[0m\u001b[1;32m    346\u001b[0m             \u001b[0mX\u001b[0m\u001b[0;34m,\u001b[0m \u001b[0my\u001b[0m\u001b[0;34m,\u001b[0m \u001b[0mmulti_output\u001b[0m\u001b[0;34m=\u001b[0m\u001b[0;32mTrue\u001b[0m\u001b[0;34m,\u001b[0m \u001b[0maccept_sparse\u001b[0m\u001b[0;34m=\u001b[0m\u001b[0;34m\"csc\"\u001b[0m\u001b[0;34m,\u001b[0m \u001b[0mdtype\u001b[0m\u001b[0;34m=\u001b[0m\u001b[0mDTYPE\u001b[0m\u001b[0;34m\u001b[0m\u001b[0;34m\u001b[0m\u001b[0m\n\u001b[1;32m    347\u001b[0m         )\n",
            "\u001b[0;32m/usr/local/lib/python3.10/dist-packages/sklearn/base.py\u001b[0m in \u001b[0;36m_validate_data\u001b[0;34m(self, X, y, reset, validate_separately, **check_params)\u001b[0m\n\u001b[1;32m    582\u001b[0m                 \u001b[0my\u001b[0m \u001b[0;34m=\u001b[0m \u001b[0mcheck_array\u001b[0m\u001b[0;34m(\u001b[0m\u001b[0my\u001b[0m\u001b[0;34m,\u001b[0m \u001b[0minput_name\u001b[0m\u001b[0;34m=\u001b[0m\u001b[0;34m\"y\"\u001b[0m\u001b[0;34m,\u001b[0m \u001b[0;34m**\u001b[0m\u001b[0mcheck_y_params\u001b[0m\u001b[0;34m)\u001b[0m\u001b[0;34m\u001b[0m\u001b[0;34m\u001b[0m\u001b[0m\n\u001b[1;32m    583\u001b[0m             \u001b[0;32melse\u001b[0m\u001b[0;34m:\u001b[0m\u001b[0;34m\u001b[0m\u001b[0;34m\u001b[0m\u001b[0m\n\u001b[0;32m--> 584\u001b[0;31m                 \u001b[0mX\u001b[0m\u001b[0;34m,\u001b[0m \u001b[0my\u001b[0m \u001b[0;34m=\u001b[0m \u001b[0mcheck_X_y\u001b[0m\u001b[0;34m(\u001b[0m\u001b[0mX\u001b[0m\u001b[0;34m,\u001b[0m \u001b[0my\u001b[0m\u001b[0;34m,\u001b[0m \u001b[0;34m**\u001b[0m\u001b[0mcheck_params\u001b[0m\u001b[0;34m)\u001b[0m\u001b[0;34m\u001b[0m\u001b[0;34m\u001b[0m\u001b[0m\n\u001b[0m\u001b[1;32m    585\u001b[0m             \u001b[0mout\u001b[0m \u001b[0;34m=\u001b[0m \u001b[0mX\u001b[0m\u001b[0;34m,\u001b[0m \u001b[0my\u001b[0m\u001b[0;34m\u001b[0m\u001b[0;34m\u001b[0m\u001b[0m\n\u001b[1;32m    586\u001b[0m \u001b[0;34m\u001b[0m\u001b[0m\n",
            "\u001b[0;32m/usr/local/lib/python3.10/dist-packages/sklearn/utils/validation.py\u001b[0m in \u001b[0;36mcheck_X_y\u001b[0;34m(X, y, accept_sparse, accept_large_sparse, dtype, order, copy, force_all_finite, ensure_2d, allow_nd, multi_output, ensure_min_samples, ensure_min_features, y_numeric, estimator)\u001b[0m\n\u001b[1;32m   1104\u001b[0m         )\n\u001b[1;32m   1105\u001b[0m \u001b[0;34m\u001b[0m\u001b[0m\n\u001b[0;32m-> 1106\u001b[0;31m     X = check_array(\n\u001b[0m\u001b[1;32m   1107\u001b[0m         \u001b[0mX\u001b[0m\u001b[0;34m,\u001b[0m\u001b[0;34m\u001b[0m\u001b[0;34m\u001b[0m\u001b[0m\n\u001b[1;32m   1108\u001b[0m         \u001b[0maccept_sparse\u001b[0m\u001b[0;34m=\u001b[0m\u001b[0maccept_sparse\u001b[0m\u001b[0;34m,\u001b[0m\u001b[0;34m\u001b[0m\u001b[0;34m\u001b[0m\u001b[0m\n",
            "\u001b[0;32m/usr/local/lib/python3.10/dist-packages/sklearn/utils/validation.py\u001b[0m in \u001b[0;36mcheck_array\u001b[0;34m(array, accept_sparse, accept_large_sparse, dtype, order, copy, force_all_finite, ensure_2d, allow_nd, ensure_min_samples, ensure_min_features, estimator, input_name)\u001b[0m\n\u001b[1;32m    877\u001b[0m                     \u001b[0marray\u001b[0m \u001b[0;34m=\u001b[0m \u001b[0mxp\u001b[0m\u001b[0;34m.\u001b[0m\u001b[0mastype\u001b[0m\u001b[0;34m(\u001b[0m\u001b[0marray\u001b[0m\u001b[0;34m,\u001b[0m \u001b[0mdtype\u001b[0m\u001b[0;34m,\u001b[0m \u001b[0mcopy\u001b[0m\u001b[0;34m=\u001b[0m\u001b[0;32mFalse\u001b[0m\u001b[0;34m)\u001b[0m\u001b[0;34m\u001b[0m\u001b[0;34m\u001b[0m\u001b[0m\n\u001b[1;32m    878\u001b[0m                 \u001b[0;32melse\u001b[0m\u001b[0;34m:\u001b[0m\u001b[0;34m\u001b[0m\u001b[0;34m\u001b[0m\u001b[0m\n\u001b[0;32m--> 879\u001b[0;31m                     \u001b[0marray\u001b[0m \u001b[0;34m=\u001b[0m \u001b[0m_asarray_with_order\u001b[0m\u001b[0;34m(\u001b[0m\u001b[0marray\u001b[0m\u001b[0;34m,\u001b[0m \u001b[0morder\u001b[0m\u001b[0;34m=\u001b[0m\u001b[0morder\u001b[0m\u001b[0;34m,\u001b[0m \u001b[0mdtype\u001b[0m\u001b[0;34m=\u001b[0m\u001b[0mdtype\u001b[0m\u001b[0;34m,\u001b[0m \u001b[0mxp\u001b[0m\u001b[0;34m=\u001b[0m\u001b[0mxp\u001b[0m\u001b[0;34m)\u001b[0m\u001b[0;34m\u001b[0m\u001b[0;34m\u001b[0m\u001b[0m\n\u001b[0m\u001b[1;32m    880\u001b[0m             \u001b[0;32mexcept\u001b[0m \u001b[0mComplexWarning\u001b[0m \u001b[0;32mas\u001b[0m \u001b[0mcomplex_warning\u001b[0m\u001b[0;34m:\u001b[0m\u001b[0;34m\u001b[0m\u001b[0;34m\u001b[0m\u001b[0m\n\u001b[1;32m    881\u001b[0m                 raise ValueError(\n",
            "\u001b[0;32m/usr/local/lib/python3.10/dist-packages/sklearn/utils/_array_api.py\u001b[0m in \u001b[0;36m_asarray_with_order\u001b[0;34m(array, dtype, order, copy, xp)\u001b[0m\n\u001b[1;32m    183\u001b[0m     \u001b[0;32mif\u001b[0m \u001b[0mxp\u001b[0m\u001b[0;34m.\u001b[0m\u001b[0m__name__\u001b[0m \u001b[0;32min\u001b[0m \u001b[0;34m{\u001b[0m\u001b[0;34m\"numpy\"\u001b[0m\u001b[0;34m,\u001b[0m \u001b[0;34m\"numpy.array_api\"\u001b[0m\u001b[0;34m}\u001b[0m\u001b[0;34m:\u001b[0m\u001b[0;34m\u001b[0m\u001b[0;34m\u001b[0m\u001b[0m\n\u001b[1;32m    184\u001b[0m         \u001b[0;31m# Use NumPy API to support order\u001b[0m\u001b[0;34m\u001b[0m\u001b[0;34m\u001b[0m\u001b[0m\n\u001b[0;32m--> 185\u001b[0;31m         \u001b[0marray\u001b[0m \u001b[0;34m=\u001b[0m \u001b[0mnumpy\u001b[0m\u001b[0;34m.\u001b[0m\u001b[0masarray\u001b[0m\u001b[0;34m(\u001b[0m\u001b[0marray\u001b[0m\u001b[0;34m,\u001b[0m \u001b[0morder\u001b[0m\u001b[0;34m=\u001b[0m\u001b[0morder\u001b[0m\u001b[0;34m,\u001b[0m \u001b[0mdtype\u001b[0m\u001b[0;34m=\u001b[0m\u001b[0mdtype\u001b[0m\u001b[0;34m)\u001b[0m\u001b[0;34m\u001b[0m\u001b[0;34m\u001b[0m\u001b[0m\n\u001b[0m\u001b[1;32m    186\u001b[0m         \u001b[0;32mreturn\u001b[0m \u001b[0mxp\u001b[0m\u001b[0;34m.\u001b[0m\u001b[0masarray\u001b[0m\u001b[0;34m(\u001b[0m\u001b[0marray\u001b[0m\u001b[0;34m,\u001b[0m \u001b[0mcopy\u001b[0m\u001b[0;34m=\u001b[0m\u001b[0mcopy\u001b[0m\u001b[0;34m)\u001b[0m\u001b[0;34m\u001b[0m\u001b[0;34m\u001b[0m\u001b[0m\n\u001b[1;32m    187\u001b[0m     \u001b[0;32melse\u001b[0m\u001b[0;34m:\u001b[0m\u001b[0;34m\u001b[0m\u001b[0;34m\u001b[0m\u001b[0m\n",
            "\u001b[0;32m/usr/local/lib/python3.10/dist-packages/pandas/core/generic.py\u001b[0m in \u001b[0;36m__array__\u001b[0;34m(self, dtype)\u001b[0m\n\u001b[1;32m   2068\u001b[0m \u001b[0;34m\u001b[0m\u001b[0m\n\u001b[1;32m   2069\u001b[0m     \u001b[0;32mdef\u001b[0m \u001b[0m__array__\u001b[0m\u001b[0;34m(\u001b[0m\u001b[0mself\u001b[0m\u001b[0;34m,\u001b[0m \u001b[0mdtype\u001b[0m\u001b[0;34m:\u001b[0m \u001b[0mnpt\u001b[0m\u001b[0;34m.\u001b[0m\u001b[0mDTypeLike\u001b[0m \u001b[0;34m|\u001b[0m \u001b[0;32mNone\u001b[0m \u001b[0;34m=\u001b[0m \u001b[0;32mNone\u001b[0m\u001b[0;34m)\u001b[0m \u001b[0;34m->\u001b[0m \u001b[0mnp\u001b[0m\u001b[0;34m.\u001b[0m\u001b[0mndarray\u001b[0m\u001b[0;34m:\u001b[0m\u001b[0;34m\u001b[0m\u001b[0;34m\u001b[0m\u001b[0m\n\u001b[0;32m-> 2070\u001b[0;31m         \u001b[0;32mreturn\u001b[0m \u001b[0mnp\u001b[0m\u001b[0;34m.\u001b[0m\u001b[0masarray\u001b[0m\u001b[0;34m(\u001b[0m\u001b[0mself\u001b[0m\u001b[0;34m.\u001b[0m\u001b[0m_values\u001b[0m\u001b[0;34m,\u001b[0m \u001b[0mdtype\u001b[0m\u001b[0;34m=\u001b[0m\u001b[0mdtype\u001b[0m\u001b[0;34m)\u001b[0m\u001b[0;34m\u001b[0m\u001b[0;34m\u001b[0m\u001b[0m\n\u001b[0m\u001b[1;32m   2071\u001b[0m \u001b[0;34m\u001b[0m\u001b[0m\n\u001b[1;32m   2072\u001b[0m     def __array_wrap__(\n",
            "\u001b[0;31mValueError\u001b[0m: could not convert string to float: '236-22-6766'"
          ]
        }
      ]
    },
    {
      "cell_type": "markdown",
      "metadata": {
        "id": "PsdD0clko5pz"
      },
      "source": [
        "## 3.3: Adding feature selection"
      ]
    },
    {
      "cell_type": "code",
      "metadata": {
        "id": "rxX2ERqzpqxi"
      },
      "source": [
        "# TODO: Insert code here. Feel free to create additional code cells if necessary."
      ],
      "execution_count": null,
      "outputs": []
    },
    {
      "cell_type": "markdown",
      "metadata": {
        "id": "Ff4l2aNKo5fr"
      },
      "source": [
        "## 3.4: Adding hyperparameter tuning"
      ]
    },
    {
      "cell_type": "code",
      "metadata": {
        "id": "7XaxtTWMpIpP"
      },
      "source": [
        "# TODO: Insert code here. Feel free to create additional code cells if necessary."
      ],
      "execution_count": null,
      "outputs": []
    },
    {
      "cell_type": "markdown",
      "metadata": {
        "id": "Te9gGGLEpXRG"
      },
      "source": [
        "## 3.5: Performance estimation on testing data"
      ]
    },
    {
      "cell_type": "code",
      "metadata": {
        "id": "YV_35bEupbfs"
      },
      "source": [
        "# TODO: Insert code here. Feel free to create additional code cells if necessary."
      ],
      "execution_count": null,
      "outputs": []
    },
    {
      "cell_type": "markdown",
      "metadata": {
        "id": "bPiErnUaTQSk"
      },
      "source": [
        "# Question 4: Uncle Steve's Wind Farm"
      ]
    },
    {
      "cell_type": "markdown",
      "metadata": {
        "id": "NzLLQCmKTk9E"
      },
      "source": [
        "## Instructions\n",
        "\n",
        "\n",
        "Uncle Steve has invested in wind. He's built a BIG wind farm with a total of  700 turbines. He's been running the farm for a couple of years now and things are going well. He sells the power generated by the farm to the Kingston government and makes a tidy profit. And, of course, he has been gathering data about the turbines' operations.\n",
        "\n",
        "One area of concern, however, is the cost of maintenece. While the turbines are fairly robust, it seems like one breaks/fails every couple of days. When a turbine fails, it usually costs around \\$20,000 to repair it. Yikes!\n",
        "\n",
        "Currently, Uncle Steve is not doing any preventative maintenance. He just waits until a turbine fails, and then he fixes it. But Uncle Steve has recently learned that if he services a turbine *before* it fails, it will only cost around $2,000.\n",
        "\n",
        "Obviously, there is a potential to save a lot of money here. But first, Uncle Steve would need to figure out *which* turbines are about to fail. Uncle Steve being Uncle Steve, he wants to use ML to build a predictive maintenance model. The model will alert Uncle Steve to potential turbine failures before they happen, giving Uncle Steve a chance to perform an inspection on the turbine and then fix the turbine before it fails. Uncle Steve plans to run the model every morning. For all the turbines that the model predicts will fail, Uncle Steve will order an inspection (which cost a flat \\$500, no matter if the turbine was in good health or not; the \\$500 would not be part of the $2,000 service cost). For the rest of the turbines, Uncle Steve will do nothing.\n",
        "\n",
        "Uncle Steve has used the last few year's worth of operation data to build and assess a model to predict which turbines will fail on any given day. (The data includes useful features like sensor readings, power output, weather, and many more, but those are not important for now.) In fact, he didn't stop there: he built and assessed two models. One model uses using deep learning (in this case, RNNs), and the other uses random forests.\n",
        "\n",
        "He's tuned the bejeebers out of each model and is comfortable that he has found the best-performing version of each. Both models seem really good: both have accuracy scores > 99%. The RNN has better recall, but Uncle Steve is convinced that the random forest model will be better for him since it has better precision. Just to be sure, he has hired you to double check his calculations.\n",
        "\n",
        "**Your task**\n",
        "\n",
        " Which model will save Uncle Steve more money? Justify.\n",
        "\n",
        "\n",
        "In addition to the details above, here is the assessment of each model:\n",
        "\n",
        "- Confusion matrix for the random forest:\n",
        "\n",
        "|         | Predicted Fail           | Predicted No Fail  |\n",
        "| ------------- |------------| -----:|\n",
        "| **Actual Fail**      | 201 | 55 |\n",
        "| **Actual No Fail**   | 50 | 255195 |\n",
        "\n",
        "- Confusion matrix for the RNN:\n",
        "\n",
        "|         | Predicted Fail           | Predicted No Fail  |\n",
        "| ------------- |------------| -----:|\n",
        "| **Actual Fail**      | 226 | 30 |\n",
        "| **Actual No Fail**   | 1200 | 254045 |\n",
        "\n",
        "\n",
        "**Marking**\n",
        "\n",
        "- *Quality*. Response is well-justified and convincing.\n",
        "- *Style*. Response uses proper grammar, spelling, and punctuation. Response is clear and professional. Response is complete, but not overly-verbose. Response follows length guidelines.\n",
        "\n",
        "\n",
        "\n",
        "**Tips**\n",
        "\n",
        "- Figure out how much Uncle Steve is currently (i.e., without any predictive maintinance models) paying in maintenance costs.\n",
        "- Use the information provided above to create a cost matrix.\n",
        "- Use the cost matrix and the confusion matrices to determine the costs of each model.\n",
        "- The cost of an inspection is the same, no matter if the turbine is in good condition or is about to fail.\n",
        "- If the inspection determines that a turbine is about to fail, then it will be fixed right then and there for the additional fee.\n",
        "- For simplicity, assume the inspections are perfect: i.e., that inspecting a turbine will definitely catch any problems that might exist, and won't accidentally flag an otherwise-healthy turbine.\n",
        "\n"
      ]
    },
    {
      "cell_type": "markdown",
      "metadata": {
        "id": "nAf1SIeKTkfl"
      },
      "source": [
        "TODO: Delete this text and insert your answer here."
      ]
    }
  ]
}
